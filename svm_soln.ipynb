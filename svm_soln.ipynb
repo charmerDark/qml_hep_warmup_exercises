{
 "cells": [
  {
   "cell_type": "code",
   "execution_count": 3,
   "metadata": {},
   "outputs": [
    {
     "name": "stdout",
     "output_type": "stream",
     "text": [
      "training input\n",
      "0.72\n"
     ]
    }
   ],
   "source": [
    "import numpy as np\n",
    "with np.load('C:\\\\Users\\\\IIITK\\\\Desktop\\\\QIS_EXAM_200Events.npz',allow_pickle=True) as data:\n",
    "    a = data['training_input']\n",
    "    b = data['test_input']\n",
    "d=b.flatten()\n",
    "c=a.flatten()\n",
    "t_i=c[0]\n",
    "tst_i=d[0]\n",
    "X_train,Y_train,X_test,Y_test=[],[],[],[]\n",
    "for item in t_i['0']:\n",
    "    X_train.append(item)\n",
    "    Y_train.append(0)\n",
    "for item in t_i['1']:\n",
    "    X_train.append(item)\n",
    "    Y_train.append(1)\n",
    "for item in tst_i['0']:\n",
    "    X_test.append(item)\n",
    "    Y_test.append(0)\n",
    "for item in tst_i['1']:\n",
    "    X_test.append(item)\n",
    "    Y_test.append(1)\n",
    "#for i in range(len(X_test)):\n",
    "#    print(X_test[i],\":\",Y_test[i])\n",
    "#fetaure scaling\n",
    "from sklearn.preprocessing import StandardScaler\n",
    "sc = StandardScaler()\n",
    "X_train = sc.fit_transform(X_train)\n",
    "X_test = sc.fit_transform(X_test)\n",
    "# Fitting SVM to the Training set\n",
    "from sklearn.svm import SVC\n",
    "classifier = SVC(kernel = 'poly', degree=4, C=0.7)\n",
    "classifier.fit(X_train, Y_train)\n",
    "#from sklearn.model_selection import GridSearchCV\n",
    "\n",
    "#params_dict = {\"C\": np.linspace(0.01, 1, 100), \"gamma\": np.linspace(0.0001, 10, 100)}\n",
    "#svm = SVC(kernel=\"rbf\")\n",
    "\n",
    "# Fit the grid search\n",
    "#classifier = GridSearchCV(estimator=svm, param_grid=params_dict)\n",
    "#classifier.fit(X_train, Y_train) \n",
    "\n",
    "#classifier = SVC(kernel=\"rbf\", gamma=\"auto\", C=1)\n",
    "#classifier.fit(X_train, Y_train) #.72\n",
    "\n",
    "# Predicting the Test set results\n",
    "Y_pred = classifier.predict(X_test)\n",
    "\n",
    "# Making the Confusion Matrix\n",
    "from sklearn.metrics import confusion_matrix\n",
    "cm = confusion_matrix(Y_test, Y_pred)\n",
    "#finding accuracy\n",
    "accuracy=classifier.score(X_test,Y_test)\n",
    "print(accuracy)\n"
   ]
  },
  {
   "cell_type": "code",
   "execution_count": null,
   "metadata": {},
   "outputs": [],
   "source": []
  }
 ],
 "metadata": {
  "kernelspec": {
   "display_name": "Python 3",
   "language": "python",
   "name": "python3"
  },
  "language_info": {
   "codemirror_mode": {
    "name": "ipython",
    "version": 3
   },
   "file_extension": ".py",
   "mimetype": "text/x-python",
   "name": "python",
   "nbconvert_exporter": "python",
   "pygments_lexer": "ipython3",
   "version": "3.7.4"
  }
 },
 "nbformat": 4,
 "nbformat_minor": 2
}
