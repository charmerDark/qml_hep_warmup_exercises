{
 "cells": [
  {
   "cell_type": "code",
   "execution_count": 1,
   "metadata": {},
   "outputs": [],
   "source": [
    "import cirq"
   ]
  },
  {
   "cell_type": "code",
   "execution_count": 2,
   "metadata": {},
   "outputs": [
    {
     "name": "stdout",
     "output_type": "stream",
     "text": [
      "(0, 0): ───H───@───────×───Rx(0.5π)───\n",
      "               │       │\n",
      "(1, 0): ───H───X───────┼──────────────\n",
      "                       │\n",
      "(2, 0): ───H───@───────┼──────────────\n",
      "               │       │\n",
      "(3, 0): ───H───X───@───┼──────────────\n",
      "                   │   │\n",
      "(4, 0): ───H───────X───×──────────────\n"
     ]
    }
   ],
   "source": [
    "from cirq.ops import CNOT,H,SWAP,rx\n",
    "from numpy import pi\n",
    "circuit=cirq.Circuit()\n",
    "q0,q1,q2,q3,q4=[cirq.GridQubit(i,0) for i in range(5)]\n",
    "circuit.append([H(q0),H(q1),H(q2),H(q3),H(q4)])\n",
    "circuit.append([CNOT(q0,q1),CNOT(q2,q3),CNOT(q3,q4),SWAP(q0,q4)])\n",
    "circuit.append([cirq.rx(pi/2).on(q0)])\n",
    "print(circuit)"
   ]
  },
  {
   "cell_type": "code",
   "execution_count": null,
   "metadata": {},
   "outputs": [],
   "source": []
  }
 ],
 "metadata": {
  "kernelspec": {
   "display_name": "Python 3",
   "language": "python",
   "name": "python3"
  },
  "language_info": {
   "codemirror_mode": {
    "name": "ipython",
    "version": 3
   },
   "file_extension": ".py",
   "mimetype": "text/x-python",
   "name": "python",
   "nbconvert_exporter": "python",
   "pygments_lexer": "ipython3",
   "version": "3.7.4"
  }
 },
 "nbformat": 4,
 "nbformat_minor": 2
}
