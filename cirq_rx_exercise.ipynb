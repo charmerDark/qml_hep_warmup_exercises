{
 "cells": [
  {
   "cell_type": "code",
   "execution_count": 14,
   "metadata": {},
   "outputs": [
    {
     "name": "stdout",
     "output_type": "stream",
     "text": [
      "(0, 9): ───Rx(0.032π)───Rx(0.032π)───Rx(0.032π)───Rx(0.032π)───Rx(0.032π)───Rx(0.032π)───Rx(0.032π)───Rx(0.032π)───Rx(0.032π)───Rx(0.032π)───\n",
      "[0.99875027, 0.9950042, 0.98877114, 0.9800666, 0.9689125, 0.9553366, 0.9393728, 0.92106104, 0.90044713, 0.87758255]\n"
     ]
    },
    {
     "data": {
      "image/png": "[encoded data removed]",
      "text/plain": [
       "<Figure size 432x288 with 1 Axes>"
      ]
     },
     "metadata": {
      "needs_background": "light"
     },
     "output_type": "display_data"
    }
   ],
   "source": [
    "import cirq\n",
    "from cirq import Simulator\n",
    "import numpy as np\n",
    "qubit = cirq.GridQubit(0, 9)\n",
    "circuit = cirq.Circuit(\n",
    "    cirq.rx(0.1).on(qubit),\n",
    "    cirq.rx(0.1).on(qubit),\n",
    "    cirq.rx(0.1).on(qubit),\n",
    "    cirq.rx(0.1).on(qubit),\n",
    "    cirq.rx(0.1).on(qubit),\n",
    "    cirq.rx(0.1).on(qubit),\n",
    "    cirq.rx(0.1).on(qubit),\n",
    "    cirq.rx(0.1).on(qubit),\n",
    "    cirq.rx(0.1).on(qubit),\n",
    "    cirq.rx(0.1).on(qubit),\n",
    ")\n",
    "print(circuit)\n",
    "lt=[]\n",
    "simulator=Simulator()\n",
    "for i, step in enumerate(simulator.simulate_moment_steps(circuit,0)):\n",
    "    #print('state at step %d: %s' % (i, step.state_vector()))\n",
    "    lt.append(step.state_vector()[0])\n",
    "#print(lt)\n",
    "ltt=[]\n",
    "for i in lt:\n",
    "    ltt.append(np.abs(i))\n",
    "print(ltt)\n",
    "import matplotlib.pyplot as plt\n",
    "plt.plot(ltt,'ro')\n",
    "plt.show()"
   ]
  },
  {
   "cell_type": "code",
   "execution_count": null,
   "metadata": {},
   "outputs": [],
   "source": []
  }
 ],
 "metadata": {
  "kernelspec": {
   "display_name": "Python 3",
   "language": "python",
   "name": "python3"
  },
  "language_info": {
   "codemirror_mode": {
    "name": "ipython",
    "version": 3
   },
   "file_extension": ".py",
   "mimetype": "text/x-python",
   "name": "python",
   "nbconvert_exporter": "python",
   "pygments_lexer": "ipython3",
   "version": "3.7.4"
  }
 },
 "nbformat": 4,
 "nbformat_minor": 2
}
