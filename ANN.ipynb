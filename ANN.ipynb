{
  "nbformat": 4,
  "nbformat_minor": 0,
  "metadata": {
    "colab": {
      "name": "ANN.ipynb",
      "provenance": [],
      "toc_visible": true
    },
    "kernelspec": {
      "name": "python3",
      "display_name": "Python 3"
    }
  },
  "cells": [
    {
      "cell_type": "code",
      "metadata": {
        "id": "VEl9H0vJqcOc",
        "colab_type": "code",
        "colab": {
          "base_uri": "https://localhost:8080/",
          "height": 100
        },
        "outputId": "68829f62-4643-4e48-9178-5d710f88231b"
      },
      "source": [
        "import numpy as np\n",
        "import tensorflow as tf\n",
        "from tensorflow import keras\n",
        "from tensorflow.keras import Sequential\n",
        "from tensorflow.keras.layers import Flatten, Dense\n",
        "#data = np.load('QIS_EXAM_200Events.npz',allow_pickle=True)\n",
        "#print(type(data))\n",
        "#lst = data.files\n",
        "#for item in lst:\n",
        "    #print(data[item])\n",
        "with np.load('/content/QIS_EXAM_200Events.npz',allow_pickle=True) as data:\n",
        "    a = data['training_input']\n",
        "    b = data['test_input']\n",
        "d=b.flatten()\n",
        "c=a.flatten()\n",
        "t_i=c[0]\n",
        "tst_i=d[0]\n",
        "X_train,Y_train,X_test,Y_test=[],[],[],[]\n",
        "for item in t_i['0']:\n",
        "    X_train.append(item)\n",
        "    Y_train.append(0)\n",
        "for item in t_i['1']:\n",
        "    X_train.append(item)\n",
        "    Y_train.append(1)\n",
        "print(\"training input\")\n",
        "#for i in range(len(X_train)):\n",
        "#    print(X_train[i],\":\",Y_train[i])\n",
        "#######\n",
        "#print(\"test input\")\n",
        "for item in tst_i['0']:\n",
        "    X_test.append(item)\n",
        "    Y_test.append(0)\n",
        "for item in tst_i['1']:\n",
        "    X_test.append(item)\n",
        "    Y_test.append(1)"
      ],
      "execution_count": 1,
      "outputs": [
        {
          "output_type": "display_data",
          "data": {
            "text/html": [
              "<p style=\"color: red;\">\n",
              "The default version of TensorFlow in Colab will soon switch to TensorFlow 2.x.<br>\n",
              "We recommend you <a href=\"https://www.tensorflow.org/guide/migrate\" target=\"_blank\">upgrade</a> now \n",
              "or ensure your notebook will continue to use TensorFlow 1.x via the <code>%tensorflow_version 1.x</code> magic:\n",
              "<a href=\"https://colab.research.google.com/notebooks/tensorflow_version.ipynb\" target=\"_blank\">more info</a>.</p>\n"
            ],
            "text/plain": [
              "<IPython.core.display.HTML object>"
            ]
          },
          "metadata": {
            "tags": []
          }
        },
        {
          "output_type": "stream",
          "text": [
            "training input\n"
          ],
          "name": "stdout"
        }
      ]
    },
    {
      "cell_type": "code",
      "metadata": {
        "id": "IVFHfkvuyfD3",
        "colab_type": "code",
        "colab": {}
      },
      "source": [
        "X_train = np.asarray(X_train)\n",
        "Y_train = np.asarray(Y_train)\n",
        "X_test = np.asarray(X_test)\n",
        "Y_test = np.asarray(Y_test)"
      ],
      "execution_count": 0,
      "outputs": []
    },
    {
      "cell_type": "code",
      "metadata": {
        "id": "yhN3QXAW2H5d",
        "colab_type": "code",
        "colab": {
          "base_uri": "https://localhost:8080/",
          "height": 92
        },
        "outputId": "364cb461-5172-4106-ed95-199e581930c3"
      },
      "source": [
        "model = Sequential()\n",
        "model.add(Dense(X_train.shape[1], activation='relu', input_dim = X_train.shape[1]))\n",
        "model.add(Dense(50, activation='relu'))\n",
        "model.add(Dense(1, activation = 'sigmoid'))"
      ],
      "execution_count": 3,
      "outputs": [
        {
          "output_type": "stream",
          "text": [
            "WARNING:tensorflow:From /usr/local/lib/python3.6/dist-packages/tensorflow_core/python/ops/resource_variable_ops.py:1630: calling BaseResourceVariable.__init__ (from tensorflow.python.ops.resource_variable_ops) with constraint is deprecated and will be removed in a future version.\n",
            "Instructions for updating:\n",
            "If using Keras pass *_constraint arguments to layers.\n"
          ],
          "name": "stdout"
        }
      ]
    },
    {
      "cell_type": "code",
      "metadata": {
        "id": "2LFInvZH2YE_",
        "colab_type": "code",
        "colab": {
          "base_uri": "https://localhost:8080/",
          "height": 92
        },
        "outputId": "06540d62-c6a5-4861-a906-b3c68fa9b7e1"
      },
      "source": [
        "model.compile(optimizer='adam', loss = 'binary_crossentropy', metrics=['accuracy'])"
      ],
      "execution_count": 4,
      "outputs": [
        {
          "output_type": "stream",
          "text": [
            "WARNING:tensorflow:From /usr/local/lib/python3.6/dist-packages/tensorflow_core/python/ops/nn_impl.py:183: where (from tensorflow.python.ops.array_ops) is deprecated and will be removed in a future version.\n",
            "Instructions for updating:\n",
            "Use tf.where in 2.0, which has the same broadcast rule as np.where\n"
          ],
          "name": "stdout"
        }
      ]
    },
    {
      "cell_type": "code",
      "metadata": {
        "id": "kFFLiHiZ2cSY",
        "colab_type": "code",
        "colab": {
          "base_uri": "https://localhost:8080/",
          "height": 421
        },
        "outputId": "462c4693-cb9b-4529-e9b4-e64de2da6095"
      },
      "source": [
        "model.fit(X_train, Y_train, batch_size = 1, epochs = 10, verbose = 1)"
      ],
      "execution_count": 13,
      "outputs": [
        {
          "output_type": "stream",
          "text": [
            "Train on 100 samples\n",
            "Epoch 1/10\n",
            "100/100 [==============================] - 0s 1ms/sample - loss: 0.3993 - acc: 0.8000\n",
            "Epoch 2/10\n",
            "100/100 [==============================] - 0s 1ms/sample - loss: 0.3969 - acc: 0.8200\n",
            "Epoch 3/10\n",
            "100/100 [==============================] - 0s 1ms/sample - loss: 0.3959 - acc: 0.8100\n",
            "Epoch 4/10\n",
            "100/100 [==============================] - 0s 1ms/sample - loss: 0.3996 - acc: 0.8100\n",
            "Epoch 5/10\n",
            "100/100 [==============================] - 0s 1ms/sample - loss: 0.3929 - acc: 0.8200\n",
            "Epoch 6/10\n",
            "100/100 [==============================] - 0s 1ms/sample - loss: 0.4034 - acc: 0.7900\n",
            "Epoch 7/10\n",
            "100/100 [==============================] - 0s 1ms/sample - loss: 0.3958 - acc: 0.8200\n",
            "Epoch 8/10\n",
            "100/100 [==============================] - 0s 1ms/sample - loss: 0.3904 - acc: 0.8200\n",
            "Epoch 9/10\n",
            "100/100 [==============================] - 0s 1ms/sample - loss: 0.3865 - acc: 0.8200\n",
            "Epoch 10/10\n",
            "100/100 [==============================] - 0s 1ms/sample - loss: 0.3831 - acc: 0.8200\n"
          ],
          "name": "stdout"
        },
        {
          "output_type": "execute_result",
          "data": {
            "text/plain": [
              "<tensorflow.python.keras.callbacks.History at 0x7f0e3aa49eb8>"
            ]
          },
          "metadata": {
            "tags": []
          },
          "execution_count": 13
        }
      ]
    },
    {
      "cell_type": "code",
      "metadata": {
        "id": "V42C3-HF38S1",
        "colab_type": "code",
        "colab": {
          "base_uri": "https://localhost:8080/",
          "height": 54
        },
        "outputId": "52a7ad8e-ff8f-4e83-8253-9a35f3cc10ca"
      },
      "source": [
        "model.evaluate(X_test, Y_test)"
      ],
      "execution_count": 14,
      "outputs": [
        {
          "output_type": "stream",
          "text": [
            "100/100 [==============================] - 0s 89us/sample - loss: 0.7113 - acc: 0.7000\n"
          ],
          "name": "stdout"
        },
        {
          "output_type": "execute_result",
          "data": {
            "text/plain": [
              "[0.7113309717178344, 0.7]"
            ]
          },
          "metadata": {
            "tags": []
          },
          "execution_count": 14
        }
      ]
    }
  ]
}